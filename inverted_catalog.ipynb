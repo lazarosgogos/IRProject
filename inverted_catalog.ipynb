{
 "cells": [
  {
   "cell_type": "code",
   "execution_count": 1,
   "metadata": {},
   "outputs": [
    {
     "name": "stdout",
     "output_type": "stream",
     "text": [
      "Importing csv file...........\n"
     ]
    }
   ],
   "source": [
    "import importcsv\n",
    "\n",
    "print('Importing csv file...........')\n",
    "small_dataset = importcsv.opencsv('processedspeech.csv')  "
   ]
  },
  {
   "cell_type": "code",
   "execution_count": 2,
   "metadata": {},
   "outputs": [],
   "source": [
    "# remove numbers except 1453 and numbers between 1800-2039 (years)\n",
    "\n",
    "import re\n",
    "\n",
    "def remove_numbers(text):\n",
    "    pattern = re.compile(r'\\b(?!(1453 | 18[0-9]{2} | 19[0-9]{2} | 20[0-3][0-9])\\b)\\d+\\b')\n",
    "    text = re.sub(pattern, '', text)    \n",
    "    return text\n",
    "\n",
    "small_dataset['processed_speeches'] = small_dataset['processed_speeches'].apply(remove_numbers)\n"
   ]
  },
  {
   "cell_type": "code",
   "execution_count": 3,
   "metadata": {},
   "outputs": [],
   "source": [
    "from sklearn.feature_extraction.text import TfidfVectorizer\n",
    "\n",
    "tfidf_vectorizer = TfidfVectorizer(min_df=0.0001) #using min_df we exclude  not frequent words\n",
    "tfidf_matrix = tfidf_vectorizer.fit_transform(small_dataset['processed_speeches'])"
   ]
  },
  {
   "cell_type": "code",
   "execution_count": 4,
   "metadata": {},
   "outputs": [
    {
     "data": {
      "text/plain": [
       "(362630, 38265)"
      ]
     },
     "execution_count": 4,
     "metadata": {},
     "output_type": "execute_result"
    }
   ],
   "source": [
    "tfidf_matrix.shape"
   ]
  },
  {
   "cell_type": "code",
   "execution_count": 5,
   "metadata": {},
   "outputs": [],
   "source": [
    "words = tfidf_vectorizer.get_feature_names_out()"
   ]
  },
  {
   "cell_type": "code",
   "execution_count": 7,
   "metadata": {},
   "outputs": [],
   "source": [
    "#create a dictionary with keys all the unique words from the tdif matrix\n",
    "\n",
    "small_index_catalog = {}\n",
    "for term in words:\n",
    "    small_index_catalog[term] = []"
   ]
  },
  {
   "cell_type": "code",
   "execution_count": 8,
   "metadata": {},
   "outputs": [
    {
     "name": "stdout",
     "output_type": "stream",
     "text": [
      "10000\n",
      "20000\n",
      "30000\n",
      "40000\n",
      "50000\n",
      "60000\n",
      "70000\n",
      "80000\n",
      "90000\n",
      "100000\n",
      "110000\n",
      "120000\n",
      "130000\n",
      "140000\n",
      "150000\n",
      "160000\n",
      "170000\n",
      "180000\n",
      "190000\n",
      "200000\n",
      "210000\n",
      "220000\n",
      "230000\n",
      "240000\n",
      "250000\n",
      "260000\n",
      "270000\n",
      "280000\n",
      "290000\n",
      "300000\n",
      "310000\n",
      "320000\n",
      "330000\n",
      "340000\n",
      "350000\n",
      "360000\n"
     ]
    }
   ],
   "source": [
    "# make the inverted catalog\n",
    "counter = 0\n",
    "for i, item in enumerate(small_dataset['processed_speeches']):\n",
    "    counter += 1\n",
    "    if counter%10000 == 0:\n",
    "        print(counter)\n",
    "    for word in words:\n",
    "        if word in item:\n",
    "            small_index_catalog[word].append(i)\n"
   ]
  },
  {
   "cell_type": "code",
   "execution_count": 10,
   "metadata": {},
   "outputs": [],
   "source": [
    "#save the inverted catalog to a json file\n",
    "#save the inverted catalog to a json file\n",
    "import json\n",
    "\n",
    "# Specify the file path\n",
    "file_path = \"inverted_catalog.json\"\n",
    "\n",
    "# Save the dictionary to a file\n",
    "with open(file_path, 'w') as file:\n",
    "    json.dump(small_index_catalog, file)\n"
   ]
  }
 ],
 "metadata": {
  "kernelspec": {
   "display_name": "base",
   "language": "python",
   "name": "python3"
  },
  "language_info": {
   "codemirror_mode": {
    "name": "ipython",
    "version": 3
   },
   "file_extension": ".py",
   "mimetype": "text/x-python",
   "name": "python",
   "nbconvert_exporter": "python",
   "pygments_lexer": "ipython3",
   "version": "3.11.5"
  }
 },
 "nbformat": 4,
 "nbformat_minor": 2
}

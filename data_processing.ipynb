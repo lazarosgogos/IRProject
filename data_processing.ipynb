{
 "cells": [
  {
   "cell_type": "markdown",
   "metadata": {},
   "source": [
    "Εισαγωγή του αρχικού csv "
   ]
  },
  {
   "cell_type": "code",
   "execution_count": 1,
   "metadata": {},
   "outputs": [
    {
     "name": "stdout",
     "output_type": "stream",
     "text": [
      "Importing csv file...........\n"
     ]
    }
   ],
   "source": [
    "import importcsv\n",
    "import wordtools\n",
    "\n",
    "print('Importing csv file...........')\n",
    "dataset = importcsv.opencsv('Greek_Parliament_Proceedings_1989_2020.csv')  \n"
   ]
  },
  {
   "cell_type": "markdown",
   "metadata": {},
   "source": [
    "Ομιλίες με χαρακτήρες λιγότερους από 300 απαλείφονται."
   ]
  },
  {
   "cell_type": "code",
   "execution_count": 2,
   "metadata": {},
   "outputs": [
    {
     "name": "stdout",
     "output_type": "stream",
     "text": [
      "Remove Small Speeches...........\n"
     ]
    }
   ],
   "source": [
    "print('Remove Small Speeches...........')\n",
    "dataset = dataset.drop(wordtools.removesmallspeechesindex(dataset, 300)).reset_index(drop=True)"
   ]
  },
  {
   "cell_type": "markdown",
   "metadata": {},
   "source": [
    "Στο επόμενο στάδιο για όλες τις ομιλίες βγαίνουν οι τόνοι, γίνονται μικρά τα γράμματα, βγαίνουν λέξεις από το αρχείο stopwords1 και γίνεται stemming με το greek-stemmer"
   ]
  },
  {
   "cell_type": "code",
   "execution_count": 4,
   "metadata": {},
   "outputs": [
    {
     "name": "stdout",
     "output_type": "stream",
     "text": [
      "Remove Puncuation, Make Lower Case, Stemming...........\n",
      "10000\n",
      "20000\n",
      "30000\n",
      "40000\n",
      "50000\n",
      "60000\n",
      "70000\n",
      "80000\n",
      "90000\n",
      "100000\n",
      "110000\n",
      "120000\n",
      "130000\n",
      "140000\n",
      "150000\n",
      "160000\n",
      "170000\n",
      "180000\n",
      "190000\n",
      "200000\n",
      "210000\n",
      "220000\n",
      "230000\n",
      "240000\n",
      "250000\n",
      "260000\n",
      "270000\n",
      "280000\n",
      "290000\n",
      "300000\n",
      "310000\n",
      "320000\n",
      "330000\n",
      "340000\n",
      "350000\n",
      "360000\n"
     ]
    }
   ],
   "source": [
    "print('Remove Puncuation, Make Lower Case, Stemming...........')\n",
    "listdata = dataset['speech'].tolist()\n",
    "listdata = wordtools.remove_pun_word_stem(listdata) "
   ]
  },
  {
   "cell_type": "code",
   "execution_count": 5,
   "metadata": {},
   "outputs": [
    {
     "data": {
      "text/plain": [
       "'ΚΥΡΙ ΣΥΝΑΔΕΛΦ ΥΠΕΛΕΙΠΟΝΤ ΜΟΝ ΑΡΙΘΜΗΤΙΚ ΦΕΤΙΝ ΚΡΙΣ ΚΡΙΣΕ ΠΡΟΗΓΟΥΜΕΝ ΕΤ ΕΓΙΝ ΑΠΟΛΥΤ ΑΞΙΟΚΡΑΤΙΚ ΚΡΙΤΗΡΙ ΕΓΙΝ ΣΤΟΙΧΕΙ ΑΝΑΦΕΡΟΝΤΑ ΦΑΚΕΛ ΚΡΙΘΕΝΤ ΑΞΙΩΜΑΤΙΚ ΥΠΟΠΕΣ ΚΥΡΙ ΧΑΡΑΛΑΜΠΟΠΟΥΛ ΟΛΙΣΘΗΜ ΑΝΑΦΕΡ ΟΝΟΜΑΤ ΑΝΑΦΕΡ ΚΡΙΣ'"
      ]
     },
     "execution_count": 5,
     "metadata": {},
     "output_type": "execute_result"
    }
   ],
   "source": [
    "listdata[5564]"
   ]
  },
  {
   "cell_type": "code",
   "execution_count": 6,
   "metadata": {},
   "outputs": [],
   "source": [
    "dataset['processed_speeches'] = listdata"
   ]
  },
  {
   "cell_type": "markdown",
   "metadata": {},
   "source": [
    "Αποθηκεύεται νέο αρχείο csv με νέα στήλη τις επεξεργασμένες ομιλίες 'proceseed_speeches'"
   ]
  },
  {
   "cell_type": "code",
   "execution_count": 7,
   "metadata": {},
   "outputs": [],
   "source": [
    "importcsv.writetodisk(dataset, 'processedspeech.csv')"
   ]
  }
 ],
 "metadata": {
  "kernelspec": {
   "display_name": "Python 3 (ipykernel)",
   "language": "python",
   "name": "python3"
  },
  "language_info": {
   "codemirror_mode": {
    "name": "ipython",
    "version": 3
   },
   "file_extension": ".py",
   "mimetype": "text/x-python",
   "name": "python",
   "nbconvert_exporter": "python",
   "pygments_lexer": "ipython3",
   "version": "3.10.13"
  }
 },
 "nbformat": 4,
 "nbformat_minor": 2
}

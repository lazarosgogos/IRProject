{
 "cells": [
  {
   "cell_type": "code",
   "execution_count": 1,
   "metadata": {},
   "outputs": [
    {
     "name": "stdout",
     "output_type": "stream",
     "text": [
      "Importing csv file...........\n"
     ]
    }
   ],
   "source": [
    "import importcsv\n",
    "\n",
    "print('Importing csv file...........')\n",
    "small_dataset = importcsv.opencsv('processedspeech.csv')  "
   ]
  },
  {
   "cell_type": "code",
   "execution_count": 2,
   "metadata": {},
   "outputs": [],
   "source": [
    "from sklearn.feature_extraction.text import TfidfVectorizer\n",
    "\n",
    "tfidf_vectorizer = TfidfVectorizer(min_df=0.001)\n",
    "tfidf_matrix = tfidf_vectorizer.fit_transform(small_dataset['processed_speeches'])"
   ]
  },
  {
   "cell_type": "markdown",
   "metadata": {},
   "source": [
    "num of comp = 30 => 30 groups of speeches?"
   ]
  },
  {
   "cell_type": "code",
   "execution_count": 3,
   "metadata": {},
   "outputs": [],
   "source": [
    "from sklearn.decomposition import TruncatedSVD\n",
    "\n",
    "svd = TruncatedSVD(n_components=30)\n",
    "\n",
    "U = svd.fit_transform(tfidf_matrix)\n",
    "S = svd.singular_values_\n",
    "V = svd.components_"
   ]
  },
  {
   "cell_type": "code",
   "execution_count": 4,
   "metadata": {},
   "outputs": [
    {
     "name": "stdout",
     "output_type": "stream",
     "text": [
      "[[ 1.32797984e-03  5.91210277e-04  6.18608755e-04 ...  1.54210768e-03\n",
      "   7.37955716e-04  7.76371352e-04]\n",
      " [-6.03860360e-04 -1.23820279e-04 -2.65351260e-04 ... -8.44221185e-04\n",
      "  -5.40953774e-04 -6.65233845e-04]\n",
      " [-5.92460772e-05  3.94423264e-04  2.56571654e-04 ... -5.42567704e-04\n",
      "   5.29701469e-05 -3.57859967e-04]\n",
      " ...\n",
      " [ 1.19655103e-03 -1.18282561e-04 -3.53935009e-04 ...  6.59772206e-04\n",
      "  -4.20198055e-04 -5.49171378e-04]\n",
      " [-1.63835201e-03 -4.33031896e-04 -6.43379977e-04 ...  1.23564686e-04\n",
      "   4.69791195e-04  4.65000901e-04]\n",
      " [ 1.38409496e-03 -4.38595937e-04 -1.08971788e-04 ... -3.80038630e-04\n",
      "   8.26512014e-04  8.72231198e-05]]\n"
     ]
    }
   ],
   "source": [
    "print(V)"
   ]
  },
  {
   "cell_type": "code",
   "execution_count": 5,
   "metadata": {},
   "outputs": [],
   "source": [
    "V30 = V[:30,:]"
   ]
  },
  {
   "cell_type": "code",
   "execution_count": 6,
   "metadata": {},
   "outputs": [
    {
     "ename": "MemoryError",
     "evalue": "Unable to allocate 179. MiB for an array with shape (46827538,) and data type int32",
     "output_type": "error",
     "traceback": [
      "\u001b[1;31m---------------------------------------------------------------------------\u001b[0m",
      "\u001b[1;31mMemoryError\u001b[0m                               Traceback (most recent call last)",
      "\u001b[1;32mc:\\Users\\KoEle\\Projects\\IR\\IRProject\\SVDattemp.ipynb Cell 7\u001b[0m line \u001b[0;36m3\n\u001b[0;32m      <a href='vscode-notebook-cell:/c%3A/Users/KoEle/Projects/IR/IRProject/SVDattemp.ipynb#W6sZmlsZQ%3D%3D?line=0'>1</a>\u001b[0m \u001b[39mimport\u001b[39;00m \u001b[39mnumpy\u001b[39;00m \u001b[39mas\u001b[39;00m \u001b[39mnp\u001b[39;00m\n\u001b[1;32m----> <a href='vscode-notebook-cell:/c%3A/Users/KoEle/Projects/IR/IRProject/SVDattemp.ipynb#W6sZmlsZQ%3D%3D?line=2'>3</a>\u001b[0m M \u001b[39m=\u001b[39m np\u001b[39m.\u001b[39mdot(tfidf_matrix, V30\u001b[39m.\u001b[39mtranspose())\n",
      "File \u001b[1;32m<__array_function__ internals>:200\u001b[0m, in \u001b[0;36mdot\u001b[1;34m(*args, **kwargs)\u001b[0m\n",
      "File \u001b[1;32mc:\\Users\\KoEle\\anaconda3\\Lib\\site-packages\\scipy\\sparse\\_matrix.py:48\u001b[0m, in \u001b[0;36mspmatrix.__mul__\u001b[1;34m(self, other)\u001b[0m\n\u001b[0;32m     47\u001b[0m \u001b[39mdef\u001b[39;00m \u001b[39m__mul__\u001b[39m(\u001b[39mself\u001b[39m, other):\n\u001b[1;32m---> 48\u001b[0m     \u001b[39mreturn\u001b[39;00m \u001b[39mself\u001b[39m\u001b[39m.\u001b[39m_mul_dispatch(other)\n",
      "File \u001b[1;32mc:\\Users\\KoEle\\anaconda3\\Lib\\site-packages\\scipy\\sparse\\_base.py:530\u001b[0m, in \u001b[0;36m_spbase._mul_dispatch\u001b[1;34m(self, other)\u001b[0m\n\u001b[0;32m    526\u001b[0m         \u001b[39mreturn\u001b[39;00m \u001b[39mself\u001b[39m\u001b[39m.\u001b[39m_mul_multivector(other)\n\u001b[0;32m    528\u001b[0m \u001b[39mif\u001b[39;00m isscalarlike(other):\n\u001b[0;32m    529\u001b[0m     \u001b[39m# scalar value\u001b[39;00m\n\u001b[1;32m--> 530\u001b[0m     \u001b[39mreturn\u001b[39;00m \u001b[39mself\u001b[39m\u001b[39m.\u001b[39m_mul_scalar(other)\n\u001b[0;32m    532\u001b[0m \u001b[39mif\u001b[39;00m issparse(other):\n\u001b[0;32m    533\u001b[0m     \u001b[39mif\u001b[39;00m \u001b[39mself\u001b[39m\u001b[39m.\u001b[39mshape[\u001b[39m1\u001b[39m] \u001b[39m!=\u001b[39m other\u001b[39m.\u001b[39mshape[\u001b[39m0\u001b[39m]:\n",
      "File \u001b[1;32mc:\\Users\\KoEle\\anaconda3\\Lib\\site-packages\\scipy\\sparse\\_data.py:126\u001b[0m, in \u001b[0;36m_data_matrix._mul_scalar\u001b[1;34m(self, other)\u001b[0m\n\u001b[0;32m    125\u001b[0m \u001b[39mdef\u001b[39;00m \u001b[39m_mul_scalar\u001b[39m(\u001b[39mself\u001b[39m, other):\n\u001b[1;32m--> 126\u001b[0m     \u001b[39mreturn\u001b[39;00m \u001b[39mself\u001b[39m\u001b[39m.\u001b[39m_with_data(\u001b[39mself\u001b[39m\u001b[39m.\u001b[39mdata \u001b[39m*\u001b[39m other)\n",
      "File \u001b[1;32mc:\\Users\\KoEle\\anaconda3\\Lib\\site-packages\\scipy\\sparse\\_compressed.py:1229\u001b[0m, in \u001b[0;36m_cs_matrix._with_data\u001b[1;34m(self, data, copy)\u001b[0m\n\u001b[0;32m   1224\u001b[0m \u001b[39m\u001b[39m\u001b[39m\"\"\"Returns a matrix with the same sparsity structure as self,\u001b[39;00m\n\u001b[0;32m   1225\u001b[0m \u001b[39mbut with different data.  By default the structure arrays\u001b[39;00m\n\u001b[0;32m   1226\u001b[0m \u001b[39m(i.e. .indptr and .indices) are copied.\u001b[39;00m\n\u001b[0;32m   1227\u001b[0m \u001b[39m\"\"\"\u001b[39;00m\n\u001b[0;32m   1228\u001b[0m \u001b[39mif\u001b[39;00m copy:\n\u001b[1;32m-> 1229\u001b[0m     \u001b[39mreturn\u001b[39;00m \u001b[39mself\u001b[39m\u001b[39m.\u001b[39m\u001b[39m__class__\u001b[39m((data, \u001b[39mself\u001b[39m\u001b[39m.\u001b[39mindices\u001b[39m.\u001b[39mcopy(),\n\u001b[0;32m   1230\u001b[0m                            \u001b[39mself\u001b[39m\u001b[39m.\u001b[39mindptr\u001b[39m.\u001b[39mcopy()),\n\u001b[0;32m   1231\u001b[0m                           shape\u001b[39m=\u001b[39m\u001b[39mself\u001b[39m\u001b[39m.\u001b[39mshape,\n\u001b[0;32m   1232\u001b[0m                           dtype\u001b[39m=\u001b[39mdata\u001b[39m.\u001b[39mdtype)\n\u001b[0;32m   1233\u001b[0m \u001b[39melse\u001b[39;00m:\n\u001b[0;32m   1234\u001b[0m     \u001b[39mreturn\u001b[39;00m \u001b[39mself\u001b[39m\u001b[39m.\u001b[39m\u001b[39m__class__\u001b[39m((data, \u001b[39mself\u001b[39m\u001b[39m.\u001b[39mindices, \u001b[39mself\u001b[39m\u001b[39m.\u001b[39mindptr),\n\u001b[0;32m   1235\u001b[0m                           shape\u001b[39m=\u001b[39m\u001b[39mself\u001b[39m\u001b[39m.\u001b[39mshape, dtype\u001b[39m=\u001b[39mdata\u001b[39m.\u001b[39mdtype)\n",
      "\u001b[1;31mMemoryError\u001b[0m: Unable to allocate 179. MiB for an array with shape (46827538,) and data type int32"
     ]
    }
   ],
   "source": [
    "import numpy as np\n",
    "\n",
    "M = np.dot(tfidf_matrix, V30.transpose())"
   ]
  }
 ],
 "metadata": {
  "kernelspec": {
   "display_name": "base",
   "language": "python",
   "name": "python3"
  },
  "language_info": {
   "codemirror_mode": {
    "name": "ipython",
    "version": 3
   },
   "file_extension": ".py",
   "mimetype": "text/x-python",
   "name": "python",
   "nbconvert_exporter": "python",
   "pygments_lexer": "ipython3",
   "version": "3.11.5"
  }
 },
 "nbformat": 4,
 "nbformat_minor": 2
}

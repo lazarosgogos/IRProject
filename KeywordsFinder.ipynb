{
 "cells": [
  {
   "cell_type": "markdown",
   "metadata": {},
   "source": [
    "Φόρτωση του αρχείου"
   ]
  },
  {
   "cell_type": "code",
   "execution_count": null,
   "metadata": {},
   "outputs": [],
   "source": [
    "import importcsv\n",
    "\n",
    "print('Importing svc file...........')\n",
    "small_dataset = importcsv.opencsv('processedspeech.csv')  "
   ]
  }
 ],
 "metadata": {
  "language_info": {
   "name": "python"
  }
 },
 "nbformat": 4,
 "nbformat_minor": 2
}

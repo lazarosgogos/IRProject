{
 "cells": [
  {
   "cell_type": "markdown",
   "metadata": {},
   "source": [
    "Εισαγωγή του αρχικού csv "
   ]
  },
  {
   "cell_type": "code",
   "execution_count": 1,
   "metadata": {},
   "outputs": [
    {
     "name": "stdout",
     "output_type": "stream",
     "text": [
      "Importing csv file...........\n"
     ]
    }
   ],
   "source": [
    "import sys\n",
    "sys.path.append('..')\n",
    "\n",
    "import importcsv\n",
    "import wordtools\n",
    "\n",
    "print('Importing csv file...........')\n",
    "dataset = importcsv.opencsv('../Greek_Parliament_Proceedings_1989_2020.csv')  \n"
   ]
  },
  {
   "cell_type": "markdown",
   "metadata": {},
   "source": [
    "Ομιλίες με χαρακτήρες λιγότερους από 150 απαλείφονται."
   ]
  },
  {
   "cell_type": "code",
   "execution_count": 2,
   "metadata": {},
   "outputs": [
    {
     "name": "stdout",
     "output_type": "stream",
     "text": [
      "Remove Small Speeches...........\n"
     ]
    }
   ],
   "source": [
    "print('Remove Small Speeches...........')\n",
    "dataset = dataset.drop(wordtools.removesmallspeechesindex(dataset, 150)).reset_index(drop=True)"
   ]
  },
  {
   "cell_type": "markdown",
   "metadata": {},
   "source": [
    "Στο επόμενο στάδιο για όλες τις ομιλίες βγαίνουν οι τόνοι, γίνονται μικρά τα γράμματα, βγαίνουν λέξεις από το αρχείο stopwords1 και γίνεται stemming με το greek-stemmer"
   ]
  },
  {
   "cell_type": "code",
   "execution_count": 3,
   "metadata": {},
   "outputs": [],
   "source": [
    "dataset['processed_speeches'] = dataset['speech'].apply(wordtools.process_string)"
   ]
  },
  {
   "cell_type": "markdown",
   "metadata": {},
   "source": [
    "Removing the rows that have at least on empty cell"
   ]
  },
  {
   "cell_type": "code",
   "execution_count": 4,
   "metadata": {},
   "outputs": [],
   "source": [
    "dataset = dataset.dropna().reset_index(drop=True)"
   ]
  },
  {
   "cell_type": "markdown",
   "metadata": {},
   "source": [
    "Changing the names of the political parties in order to be easier to be found"
   ]
  },
  {
   "cell_type": "code",
   "execution_count": 5,
   "metadata": {},
   "outputs": [],
   "source": [
    "dataset.loc[:,('processed_speeches')] = wordtools.change_party_names(dataset)"
   ]
  },
  {
   "cell_type": "code",
   "execution_count": 6,
   "metadata": {},
   "outputs": [],
   "source": [
    "# remove numbers except 1453 and numbers between 1800-2039 (years)\n",
    "\n",
    "import re\n",
    "\n",
    "def remove_numbers(text):\n",
    "    pattern = re.compile(r'\\b(?!(1453 | 18[0-9]{2} | 19[0-9]{2} | 20[0-3][0-9])\\b)\\d+\\b')\n",
    "    text = re.sub(pattern, '', text)    \n",
    "    return text\n",
    "\n",
    "dataset.loc[:,('processed_speeches')] = dataset['processed_speeches'].apply(remove_numbers)"
   ]
  },
  {
   "cell_type": "code",
   "execution_count": 7,
   "metadata": {},
   "outputs": [],
   "source": [
    "importcsv.writetodisk(dataset, '../processedspeech2.csv')"
   ]
  }
 ],
 "metadata": {
  "kernelspec": {
   "display_name": "Python 3 (ipykernel)",
   "language": "python",
   "name": "python3"
  },
  "language_info": {
   "codemirror_mode": {
    "name": "ipython",
    "version": 3
   },
   "file_extension": ".py",
   "mimetype": "text/x-python",
   "name": "python",
   "nbconvert_exporter": "python",
   "pygments_lexer": "ipython3",
   "version": "3.11.5"
  }
 },
 "nbformat": 4,
 "nbformat_minor": 2
}

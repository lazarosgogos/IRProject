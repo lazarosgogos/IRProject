{
 "cells": [
  {
   "cell_type": "markdown",
   "metadata": {},
   "source": [
    "Εισαγωγή του αρχικού csv "
   ]
  },
  {
   "cell_type": "code",
   "execution_count": 1,
   "metadata": {},
   "outputs": [
    {
     "name": "stdout",
     "output_type": "stream",
     "text": [
      "Importing csv file...........\n"
     ]
    }
   ],
   "source": [
    "import sys\n",
    "sys.path.append('..')\n",
    "\n",
    "import importcsv\n",
    "import wordtools\n",
    "\n",
    "print('Importing csv file...........')\n",
    "dataset = importcsv.opencsv('../Greek_Parliament_Proceedings_1989_2020.csv')  \n"
   ]
  },
  {
   "cell_type": "markdown",
   "metadata": {},
   "source": [
    "Ομιλίες με χαρακτήρες λιγότερους από 150 απαλείφονται."
   ]
  },
  {
   "cell_type": "code",
   "execution_count": 2,
   "metadata": {},
   "outputs": [
    {
     "name": "stdout",
     "output_type": "stream",
     "text": [
      "Remove Small Speeches...........\n"
     ]
    }
   ],
   "source": [
    "print('Remove Small Speeches...........')\n",
    "dataset = dataset.drop(wordtools.removesmallspeechesindex(dataset, 200)).reset_index(drop=True)"
   ]
  },
  {
   "cell_type": "markdown",
   "metadata": {},
   "source": [
    "Αφαιρούνται οι ομιλίες του προεδρείου της βουλής γιατί δεν περιέχουν πολιτικό περιεχόμενο, οι ομιλίες τους αφορούν μόνο τη διαδικασία του κοινοβουλίου."
   ]
  },
  {
   "cell_type": "code",
   "execution_count": 3,
   "metadata": {},
   "outputs": [],
   "source": [
    "stringto = 'προεδρος βουλης'\n",
    "mask = dataset['roles'].str.contains(stringto, na=False)\n",
    "dataset = dataset[~mask]"
   ]
  },
  {
   "cell_type": "markdown",
   "metadata": {},
   "source": [
    "Στο επόμενο στάδιο για όλες τις ομιλίες βγαίνουν οι τόνοι, γίνονται μικρά τα γράμματα, βγαίνουν λέξεις από το αρχείο stopwords1 και γίνεται stemming με το greek-stemmer"
   ]
  },
  {
   "cell_type": "code",
   "execution_count": 4,
   "metadata": {},
   "outputs": [],
   "source": [
    "dataset['processed_speeches'] = dataset['speech'].apply(wordtools.process_string)"
   ]
  },
  {
   "cell_type": "markdown",
   "metadata": {},
   "source": [
    "Removing the rows that have at least one empty cell"
   ]
  },
  {
   "cell_type": "code",
   "execution_count": 5,
   "metadata": {},
   "outputs": [],
   "source": [
    "dataset = dataset.dropna().reset_index(drop=True)"
   ]
  },
  {
   "cell_type": "markdown",
   "metadata": {},
   "source": [
    "Changing the names of the political parties in order to be easier to be found"
   ]
  },
  {
   "cell_type": "code",
   "execution_count": 6,
   "metadata": {},
   "outputs": [],
   "source": [
    "dataset.loc[:,('processed_speeches')] = wordtools.change_party_names(dataset)"
   ]
  },
  {
   "cell_type": "markdown",
   "metadata": {},
   "source": [
    "remove numbers except 1453 and numbers between 1800-2039 (years)"
   ]
  },
  {
   "cell_type": "code",
   "execution_count": 7,
   "metadata": {},
   "outputs": [],
   "source": [
    "import re\n",
    "\n",
    "def remove_numbers(text):\n",
    "    pattern = re.compile(r'\\b(?!(1453 | 18[0-9]{2} | 19[0-9]{2} | 20[0-3][0-9])\\b)\\d+\\b')\n",
    "    text = re.sub(pattern, '', text)    \n",
    "    return text\n",
    "\n",
    "dataset.loc[:,('processed_speeches')] = dataset['processed_speeches'].apply(remove_numbers)"
   ]
  },
  {
   "cell_type": "markdown",
   "metadata": {},
   "source": [
    "Create a new column with the year extracted from the sitting_date"
   ]
  },
  {
   "cell_type": "code",
   "execution_count": 8,
   "metadata": {},
   "outputs": [],
   "source": [
    "# function to extract the year from a date\n",
    "from datetime import datetime\n",
    "def extr_year(date):\n",
    "    dateobjext = datetime.strptime(date, '%d/%m/%Y')\n",
    "    return dateobjext.year\n",
    "\n",
    "#Apply the function to column 'sitting date' and store it in a new column 'year'\n",
    "dataset['year'] = dataset['sitting_date'].apply(extr_year)"
   ]
  },
  {
   "cell_type": "code",
   "execution_count": 9,
   "metadata": {},
   "outputs": [],
   "source": [
    "df = dataset['speech']\n",
    "\n",
    "# Calculate the length of each row in bytes\n",
    "row_lengths_bytes = df.apply(lambda row: sys.getsizeof(row))\n",
    "\n",
    "# Define the threshold (128 KB in bytes)\n",
    "threshold_bytes = 128 * 1024\n",
    "\n",
    "# Use a boolean mask to filter rows based on the condition\n",
    "filtered_rows = df[row_lengths_bytes > threshold_bytes]\n",
    "\n",
    "# remove large speeches that can not be stored in the App (TextField max size 131702)\n",
    "small_dataset = dataset.drop(index=filtered_rows.index.to_list()).reset_index(drop=True)"
   ]
  },
  {
   "cell_type": "markdown",
   "metadata": {},
   "source": [
    "Save the data to a new file"
   ]
  },
  {
   "cell_type": "code",
   "execution_count": 10,
   "metadata": {},
   "outputs": [],
   "source": [
    "importcsv.writetodisk(dataset, '../processedspeechfinal.csv')"
   ]
  }
 ],
 "metadata": {
  "kernelspec": {
   "display_name": "Python 3 (ipykernel)",
   "language": "python",
   "name": "python3"
  },
  "language_info": {
   "codemirror_mode": {
    "name": "ipython",
    "version": 3
   },
   "file_extension": ".py",
   "mimetype": "text/x-python",
   "name": "python",
   "nbconvert_exporter": "python",
   "pygments_lexer": "ipython3",
   "version": "3.10.13"
  }
 },
 "nbformat": 4,
 "nbformat_minor": 2
}

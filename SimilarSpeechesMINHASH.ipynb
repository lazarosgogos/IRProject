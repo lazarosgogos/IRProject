{
 "cells": [
  {
   "cell_type": "code",
   "execution_count": 2,
   "metadata": {},
   "outputs": [],
   "source": [
    "from similarities import minhash\n",
    "import importcsv\n"
   ]
  },
  {
   "cell_type": "code",
   "execution_count": 3,
   "metadata": {},
   "outputs": [
    {
     "name": "stdout",
     "output_type": "stream",
     "text": [
      "Importing csv file...........\n"
     ]
    }
   ],
   "source": [
    "print('Importing csv file...........')\n",
    "small_dataset = importcsv.opencsv('processedspeechfinal.csv') "
   ]
  },
  {
   "cell_type": "code",
   "execution_count": 4,
   "metadata": {},
   "outputs": [],
   "source": [
    "# Keep only processed speeches\n",
    "speeches = small_dataset['processed_speeches']"
   ]
  },
  {
   "cell_type": "code",
   "execution_count": 15,
   "metadata": {},
   "outputs": [
    {
     "name": "stdout",
     "output_type": "stream",
     "text": [
      "shingles_1hot shape: (1000, 17802)\n",
      "signatures shape: (1000, 100)\n",
      "length of candidate_pairs 5\n",
      "Peek at first 5 candidate pairs [(767, 777), (77, 251), (14, 758), (544, 564), (712, 718)]\n",
      "Empty DataFrame\n",
      "Columns: [x, y, jaccard, cosine, candidate, cosine_norm]\n",
      "Index: []\n"
     ]
    }
   ],
   "source": [
    "import importlib\n",
    "importlib.reload(minhash)\n",
    "minhash.cluster_speeches(speeches[:1000], b=20, debug=True)"
   ]
  }
 ],
 "metadata": {
  "kernelspec": {
   "display_name": "Python 3 (ipykernel)",
   "language": "python",
   "name": "python3"
  },
  "language_info": {
   "codemirror_mode": {
    "name": "ipython",
    "version": 3
   },
   "file_extension": ".py",
   "mimetype": "text/x-python",
   "name": "python",
   "nbconvert_exporter": "python",
   "pygments_lexer": "ipython3",
   "version": "3.10.13"
  }
 },
 "nbformat": 4,
 "nbformat_minor": 2
}

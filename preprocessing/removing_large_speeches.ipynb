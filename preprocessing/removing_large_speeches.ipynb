{
 "cells": [
  {
   "cell_type": "code",
   "execution_count": 1,
   "metadata": {},
   "outputs": [],
   "source": [
    "import sys\n",
    "sys.path.append('..')\n",
    "\n",
    "import importcsv\n",
    "\n",
    "dataset = importcsv.opencsv('../processedspeechfinal.csv') "
   ]
  },
  {
   "cell_type": "code",
   "execution_count": 2,
   "metadata": {},
   "outputs": [],
   "source": [
    "df = dataset['speech']\n",
    "\n",
    "# Calculate the length of each row in bytes\n",
    "row_lengths_bytes = df.apply(lambda row: sys.getsizeof(row))\n",
    "\n",
    "# Define the threshold (128 KB in bytes)\n",
    "threshold_bytes = 128 * 1024\n",
    "\n",
    "# Use a boolean mask to filter rows based on the condition\n",
    "filtered_rows = df[row_lengths_bytes > threshold_bytes]\n",
    "\n",
    "# remove large speeches that can not be stored in the App (TextField max size 131702)\n",
    "dataset = dataset.drop(index=filtered_rows.index.to_list()).reset_index(drop=True)"
   ]
  },
  {
   "cell_type": "code",
   "execution_count": 3,
   "metadata": {},
   "outputs": [],
   "source": [
    "importcsv.writetodisk(dataset, '../processedspeechfinal.csv')"
   ]
  }
 ],
 "metadata": {
  "kernelspec": {
   "display_name": "base",
   "language": "python",
   "name": "python3"
  },
  "language_info": {
   "codemirror_mode": {
    "name": "ipython",
    "version": 3
   },
   "file_extension": ".py",
   "mimetype": "text/x-python",
   "name": "python",
   "nbconvert_exporter": "python",
   "pygments_lexer": "ipython3",
   "version": "3.11.5"
  }
 },
 "nbformat": 4,
 "nbformat_minor": 2
}

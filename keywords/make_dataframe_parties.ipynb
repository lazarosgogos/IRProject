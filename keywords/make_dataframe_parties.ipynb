{
 "cells": [
  {
   "cell_type": "code",
   "execution_count": 5,
   "metadata": {},
   "outputs": [
    {
     "name": "stdout",
     "output_type": "stream",
     "text": [
      "Importing csv file...........\n"
     ]
    }
   ],
   "source": [
    "import sys\n",
    "sys.path.append('..')\n",
    "\n",
    "import importcsv\n",
    "\n",
    "print('Importing csv file...........')\n",
    "df = importcsv.opencsv('../party_keywords_all_years.csv')\n",
    "\n"
   ]
  },
  {
   "cell_type": "code",
   "execution_count": 6,
   "metadata": {},
   "outputs": [],
   "source": [
    "df_party_years = df.drop(columns=['member_name','parliamentary_period', 'sitting_date', 'parliamentary_session', 'parliamentary_sitting', 'government','member_region',  'roles', 'member_gender', 'speech', 'processed_speeches'])"
   ]
  },
  {
   "cell_type": "code",
   "execution_count": 7,
   "metadata": {},
   "outputs": [
    {
     "data": {
      "text/html": [
       "<div>\n",
       "<style scoped>\n",
       "    .dataframe tbody tr th:only-of-type {\n",
       "        vertical-align: middle;\n",
       "    }\n",
       "\n",
       "    .dataframe tbody tr th {\n",
       "        vertical-align: top;\n",
       "    }\n",
       "\n",
       "    .dataframe thead th {\n",
       "        text-align: right;\n",
       "    }\n",
       "</style>\n",
       "<table border=\"1\" class=\"dataframe\">\n",
       "  <thead>\n",
       "    <tr style=\"text-align: right;\">\n",
       "      <th></th>\n",
       "      <th>political_party</th>\n",
       "      <th>year</th>\n",
       "      <th>keywords</th>\n",
       "    </tr>\n",
       "  </thead>\n",
       "  <tbody>\n",
       "    <tr>\n",
       "      <th>0</th>\n",
       "      <td>πανελληνιο σοσιαλιστικο κινημα</td>\n",
       "      <td>1989</td>\n",
       "      <td>ΠΑΣΟΚ, ΝΔ, ΛΑ, ΝΟΜ, ΕΘΝΙΚ, ΦΟΡ, ΔΙΚ, ΠΡΑΓΜΑΤΙ,...</td>\n",
       "    </tr>\n",
       "    <tr>\n",
       "      <th>1</th>\n",
       "      <td>πανελληνιο σοσιαλιστικο κινημα</td>\n",
       "      <td>1989</td>\n",
       "      <td>ΠΑΣΟΚ, ΝΔ, ΛΑ, ΝΟΜ, ΕΘΝΙΚ, ΦΟΡ, ΔΙΚ, ΠΡΑΓΜΑΤΙ,...</td>\n",
       "    </tr>\n",
       "    <tr>\n",
       "      <th>2</th>\n",
       "      <td>πανελληνιο σοσιαλιστικο κινημα</td>\n",
       "      <td>1989</td>\n",
       "      <td>ΠΑΣΟΚ, ΝΔ, ΛΑ, ΝΟΜ, ΕΘΝΙΚ, ΦΟΡ, ΔΙΚ, ΠΡΑΓΜΑΤΙ,...</td>\n",
       "    </tr>\n",
       "    <tr>\n",
       "      <th>3</th>\n",
       "      <td>πανελληνιο σοσιαλιστικο κινημα</td>\n",
       "      <td>1989</td>\n",
       "      <td>ΠΑΣΟΚ, ΝΔ, ΛΑ, ΝΟΜ, ΕΘΝΙΚ, ΦΟΡ, ΔΙΚ, ΠΡΑΓΜΑΤΙ,...</td>\n",
       "    </tr>\n",
       "    <tr>\n",
       "      <th>4</th>\n",
       "      <td>πανελληνιο σοσιαλιστικο κινημα</td>\n",
       "      <td>1989</td>\n",
       "      <td>ΠΑΣΟΚ, ΝΔ, ΛΑ, ΝΟΜ, ΕΘΝΙΚ, ΦΟΡ, ΔΙΚ, ΠΡΑΓΜΑΤΙ,...</td>\n",
       "    </tr>\n",
       "    <tr>\n",
       "      <th>...</th>\n",
       "      <td>...</td>\n",
       "      <td>...</td>\n",
       "      <td>...</td>\n",
       "    </tr>\n",
       "    <tr>\n",
       "      <th>353054</th>\n",
       "      <td>νεα δημοκρατια</td>\n",
       "      <td>2020</td>\n",
       "      <td>ΝΟΜΟΣΧΕΔΙ, ΝΟΜ, ΦΟΡ, ΣΥΡΙΖΑ, ΟΙΚΟΝΟΜΙΚ, ΕΘΝΙΚ,...</td>\n",
       "    </tr>\n",
       "    <tr>\n",
       "      <th>353055</th>\n",
       "      <td>νεα δημοκρατια</td>\n",
       "      <td>2020</td>\n",
       "      <td>ΝΟΜΟΣΧΕΔΙ, ΝΟΜ, ΦΟΡ, ΣΥΡΙΖΑ, ΟΙΚΟΝΟΜΙΚ, ΕΘΝΙΚ,...</td>\n",
       "    </tr>\n",
       "    <tr>\n",
       "      <th>353056</th>\n",
       "      <td>κινημα αλλαγης</td>\n",
       "      <td>2020</td>\n",
       "      <td>ΝΟΜ, ΦΟΡ, ΝΟΜΟΣΧΕΔΙ, ΕΘΝΙΚ, ΟΙΚΟΝΟΜΙΚ, ΑΝΘΡΩΠ,...</td>\n",
       "    </tr>\n",
       "    <tr>\n",
       "      <th>353057</th>\n",
       "      <td>κινημα αλλαγης</td>\n",
       "      <td>2020</td>\n",
       "      <td>ΝΟΜ, ΦΟΡ, ΝΟΜΟΣΧΕΔΙ, ΕΘΝΙΚ, ΟΙΚΟΝΟΜΙΚ, ΑΝΘΡΩΠ,...</td>\n",
       "    </tr>\n",
       "    <tr>\n",
       "      <th>353058</th>\n",
       "      <td>κινημα αλλαγης</td>\n",
       "      <td>2020</td>\n",
       "      <td>ΝΟΜ, ΦΟΡ, ΝΟΜΟΣΧΕΔΙ, ΕΘΝΙΚ, ΟΙΚΟΝΟΜΙΚ, ΑΝΘΡΩΠ,...</td>\n",
       "    </tr>\n",
       "  </tbody>\n",
       "</table>\n",
       "<p>353059 rows × 3 columns</p>\n",
       "</div>"
      ],
      "text/plain": [
       "                       political_party  year  \\\n",
       "0       πανελληνιο σοσιαλιστικο κινημα  1989   \n",
       "1       πανελληνιο σοσιαλιστικο κινημα  1989   \n",
       "2       πανελληνιο σοσιαλιστικο κινημα  1989   \n",
       "3       πανελληνιο σοσιαλιστικο κινημα  1989   \n",
       "4       πανελληνιο σοσιαλιστικο κινημα  1989   \n",
       "...                                ...   ...   \n",
       "353054                  νεα δημοκρατια  2020   \n",
       "353055                  νεα δημοκρατια  2020   \n",
       "353056                  κινημα αλλαγης  2020   \n",
       "353057                  κινημα αλλαγης  2020   \n",
       "353058                  κινημα αλλαγης  2020   \n",
       "\n",
       "                                                 keywords  \n",
       "0       ΠΑΣΟΚ, ΝΔ, ΛΑ, ΝΟΜ, ΕΘΝΙΚ, ΦΟΡ, ΔΙΚ, ΠΡΑΓΜΑΤΙ,...  \n",
       "1       ΠΑΣΟΚ, ΝΔ, ΛΑ, ΝΟΜ, ΕΘΝΙΚ, ΦΟΡ, ΔΙΚ, ΠΡΑΓΜΑΤΙ,...  \n",
       "2       ΠΑΣΟΚ, ΝΔ, ΛΑ, ΝΟΜ, ΕΘΝΙΚ, ΦΟΡ, ΔΙΚ, ΠΡΑΓΜΑΤΙ,...  \n",
       "3       ΠΑΣΟΚ, ΝΔ, ΛΑ, ΝΟΜ, ΕΘΝΙΚ, ΦΟΡ, ΔΙΚ, ΠΡΑΓΜΑΤΙ,...  \n",
       "4       ΠΑΣΟΚ, ΝΔ, ΛΑ, ΝΟΜ, ΕΘΝΙΚ, ΦΟΡ, ΔΙΚ, ΠΡΑΓΜΑΤΙ,...  \n",
       "...                                                   ...  \n",
       "353054  ΝΟΜΟΣΧΕΔΙ, ΝΟΜ, ΦΟΡ, ΣΥΡΙΖΑ, ΟΙΚΟΝΟΜΙΚ, ΕΘΝΙΚ,...  \n",
       "353055  ΝΟΜΟΣΧΕΔΙ, ΝΟΜ, ΦΟΡ, ΣΥΡΙΖΑ, ΟΙΚΟΝΟΜΙΚ, ΕΘΝΙΚ,...  \n",
       "353056  ΝΟΜ, ΦΟΡ, ΝΟΜΟΣΧΕΔΙ, ΕΘΝΙΚ, ΟΙΚΟΝΟΜΙΚ, ΑΝΘΡΩΠ,...  \n",
       "353057  ΝΟΜ, ΦΟΡ, ΝΟΜΟΣΧΕΔΙ, ΕΘΝΙΚ, ΟΙΚΟΝΟΜΙΚ, ΑΝΘΡΩΠ,...  \n",
       "353058  ΝΟΜ, ΦΟΡ, ΝΟΜΟΣΧΕΔΙ, ΕΘΝΙΚ, ΟΙΚΟΝΟΜΙΚ, ΑΝΘΡΩΠ,...  \n",
       "\n",
       "[353059 rows x 3 columns]"
      ]
     },
     "execution_count": 7,
     "metadata": {},
     "output_type": "execute_result"
    }
   ],
   "source": [
    "df_party_years"
   ]
  },
  {
   "cell_type": "code",
   "execution_count": 8,
   "metadata": {},
   "outputs": [],
   "source": [
    "grouped = df_party_years.groupby('keywords')"
   ]
  },
  {
   "cell_type": "code",
   "execution_count": 9,
   "metadata": {},
   "outputs": [],
   "source": [
    "grouped = grouped.agg({\n",
    "    'political_party': lambda x: ' '.join(x.unique()),\n",
    "    'year': lambda x: sum(x.unique())}).reset_index()"
   ]
  },
  {
   "cell_type": "code",
   "execution_count": 10,
   "metadata": {},
   "outputs": [],
   "source": [
    "grouped = grouped.sort_values(by='year')"
   ]
  },
  {
   "cell_type": "code",
   "execution_count": 11,
   "metadata": {},
   "outputs": [
    {
     "name": "stdout",
     "output_type": "stream",
     "text": [
      "145    ΣΥΡΙΖΑ, ΦΟΡ, ΝΟΜ, ΟΙΚΟΝΟΜΙΚ, ΕΘΝΙΚ, ΝΟΜΟΣΧΕΔΙ,...\n",
      "91     ΝΟΜ, ΦΟΡ, ΝΟΜΟΣΧΕΔΙ, ΕΘΝΙΚ, ΟΙΚΟΝΟΜΙΚ, ΑΝΘΡΩΠ,...\n",
      "Name: keywords, dtype: object\n"
     ]
    }
   ],
   "source": [
    "print(grouped[grouped['political_party']=='κινημα αλλαγης']['keywords'])"
   ]
  },
  {
   "cell_type": "code",
   "execution_count": 13,
   "metadata": {},
   "outputs": [],
   "source": [
    "importcsv.writetodisk(grouped, 'party_keywords.csv')"
   ]
  }
 ],
 "metadata": {
  "kernelspec": {
   "display_name": "base",
   "language": "python",
   "name": "python3"
  },
  "language_info": {
   "codemirror_mode": {
    "name": "ipython",
    "version": 3
   },
   "file_extension": ".py",
   "mimetype": "text/x-python",
   "name": "python",
   "nbconvert_exporter": "python",
   "pygments_lexer": "ipython3",
   "version": "3.11.5"
  }
 },
 "nbformat": 4,
 "nbformat_minor": 2
}
